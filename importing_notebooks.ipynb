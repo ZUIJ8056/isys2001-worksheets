{
  "nbformat": 4,
  "nbformat_minor": 0,
  "metadata": {
    "colab": {
      "private_outputs": true,
      "provenance": [],
      "authorship_tag": "ABX9TyNmiKB/X6QcxFPX8bL9m5tf",
      "include_colab_link": true
    },
    "kernelspec": {
      "name": "python3",
      "display_name": "Python 3"
    },
    "language_info": {
      "name": "python"
    }
  },
  "cells": [
    {
      "cell_type": "markdown",
      "metadata": {
        "id": "view-in-github",
        "colab_type": "text"
      },
      "source": [
        "<a href=\"https://colab.research.google.com/github/teaching-repositories/isys2001-worksheets/blob/main/importing_notebooks.ipynb\" target=\"_parent\"><img src=\"https://colab.research.google.com/assets/colab-badge.svg\" alt=\"Open In Colab\"/></a>"
      ]
    },
    {
      "cell_type": "markdown",
      "source": [
        "# Importing Notebooks as Python Modules\n",
        "\n",
        "Grouping related code into a module makes the code easier to understand and use. It also makes the code logically organised.  Modules in Python are commonly script files with a `.py` extension. However, converting notebooks to Python scripts for importing can complicate code maintenance across two files.\n",
        "\n",
        "To simplify this process within notebooks, we can install the [import-ipynb](https://pypi.org/project/import-ipynb/) package. This package facilitates importing interactive Python notebooks as Python modules.\n",
        "\n",
        "Like traditional Python modules, notebook modules typically consist of function or class definitions. Therefore, when creating a notebook for use as a module, it should ideally contain a single cell with functions only.\n",
        "\n",
        "In this notebook, we will utilize the `wget` utility to download and import the [my_math](https://raw.githubusercontent.com/teaching-repositories/isys2001-worksheets/main/my_math.ipynb) notebook."
      ],
      "metadata": {
        "id": "F65lfz2gJeM7"
      }
    },
    {
      "cell_type": "code",
      "execution_count": null,
      "metadata": {
        "id": "rsbFX85rIsVI"
      },
      "outputs": [],
      "source": [
        "# Install the package\n",
        "!pip install import-ipynb\n",
        "\n",
        "# Download a notebook for testing\n",
        "!wget https://raw.githubusercontent.com/teaching-repositories/isys2001-worksheets/main/my_math.ipynb"
      ]
    },
    {
      "cell_type": "code",
      "source": [
        "# Import required package\n",
        "import import_ipynb  # this allows us to import notebooks, notice the underscore\n",
        "import my_math # this is the notebook downloaded form above\n",
        "\n",
        "# Test import\n",
        "result =  my_math.add(3,2)\n",
        "print(f'The result is: {result}')\n"
      ],
      "metadata": {
        "id": "_kSBZP6UNep7"
      },
      "execution_count": null,
      "outputs": []
    }
  ]
}